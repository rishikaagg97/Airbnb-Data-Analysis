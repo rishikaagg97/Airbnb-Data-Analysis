{
 "cells": [
  {
   "cell_type": "markdown",
   "id": "db71b735-05dd-4df3-b1bc-4e3187212886",
   "metadata": {},
   "source": [
    "# Airbnb Data Cleaning and Exploratory Data Analysis"
   ]
  },
  {
   "cell_type": "markdown",
   "id": "033f39fe-f289-4f7f-8a09-782716fdaa61",
   "metadata": {},
   "source": [
    "### Importing necessary libraries"
   ]
  },
  {
   "cell_type": "code",
   "execution_count": 1,
   "id": "59d76302-643b-458a-b73f-5ce547e5b38d",
   "metadata": {},
   "outputs": [],
   "source": [
    "import numpy as np\n",
    "import pandas as pd\n",
    "import matplotlib.pyplot as plt\n",
    "import seaborn as sns"
   ]
  },
  {
   "cell_type": "markdown",
   "id": "0bc41e43-9e73-45de-9e9c-fc75ec4bb9d2",
   "metadata": {},
   "source": [
    "### Converting Excel data to DataFrame"
   ]
  },
  {
   "cell_type": "code",
   "execution_count": 3,
   "id": "83888957-f163-4e72-bc7f-9a920c8395a9",
   "metadata": {},
   "outputs": [],
   "source": [
    "df=pd.read_excel(r'C:\\Users\\RBANDCO\\Downloads\\airbnb.xlsx')"
   ]
  },
  {
   "cell_type": "code",
   "execution_count": 4,
   "id": "125a8fb9-2e43-4170-abaa-67d00ab49b78",
   "metadata": {},
   "outputs": [
    {
     "data": {
      "text/html": [
       "<div>\n",
       "<style scoped>\n",
       "    .dataframe tbody tr th:only-of-type {\n",
       "        vertical-align: middle;\n",
       "    }\n",
       "\n",
       "    .dataframe tbody tr th {\n",
       "        vertical-align: top;\n",
       "    }\n",
       "\n",
       "    .dataframe thead th {\n",
       "        text-align: right;\n",
       "    }\n",
       "</style>\n",
       "<table border=\"1\" class=\"dataframe\">\n",
       "  <thead>\n",
       "    <tr style=\"text-align: right;\">\n",
       "      <th></th>\n",
       "      <th>Host Id</th>\n",
       "      <th>Host Since</th>\n",
       "      <th>Name</th>\n",
       "      <th>Neighbourhood</th>\n",
       "      <th>Property Type</th>\n",
       "      <th>Review Scores Rating (bin)</th>\n",
       "      <th>Room Type</th>\n",
       "      <th>Zipcode</th>\n",
       "      <th>Beds</th>\n",
       "      <th>Number of Records</th>\n",
       "      <th>Number Of Reviews</th>\n",
       "      <th>Price</th>\n",
       "      <th>Review Scores Rating</th>\n",
       "    </tr>\n",
       "  </thead>\n",
       "  <tbody>\n",
       "    <tr>\n",
       "      <th>0</th>\n",
       "      <td>5162530</td>\n",
       "      <td>NaT</td>\n",
       "      <td>1 Bedroom in Prime Williamsburg</td>\n",
       "      <td>Brooklyn</td>\n",
       "      <td>Apartment</td>\n",
       "      <td>NaN</td>\n",
       "      <td>Entire home/apt</td>\n",
       "      <td>11249.0</td>\n",
       "      <td>1.0</td>\n",
       "      <td>1</td>\n",
       "      <td>0</td>\n",
       "      <td>145</td>\n",
       "      <td>NaN</td>\n",
       "    </tr>\n",
       "    <tr>\n",
       "      <th>1</th>\n",
       "      <td>33134899</td>\n",
       "      <td>NaT</td>\n",
       "      <td>Sunny, Private room in Bushwick</td>\n",
       "      <td>Brooklyn</td>\n",
       "      <td>Apartment</td>\n",
       "      <td>NaN</td>\n",
       "      <td>Private room</td>\n",
       "      <td>11206.0</td>\n",
       "      <td>1.0</td>\n",
       "      <td>1</td>\n",
       "      <td>1</td>\n",
       "      <td>37</td>\n",
       "      <td>NaN</td>\n",
       "    </tr>\n",
       "    <tr>\n",
       "      <th>2</th>\n",
       "      <td>39608626</td>\n",
       "      <td>NaT</td>\n",
       "      <td>Sunny Room in Harlem</td>\n",
       "      <td>Manhattan</td>\n",
       "      <td>Apartment</td>\n",
       "      <td>NaN</td>\n",
       "      <td>Private room</td>\n",
       "      <td>10032.0</td>\n",
       "      <td>1.0</td>\n",
       "      <td>1</td>\n",
       "      <td>1</td>\n",
       "      <td>28</td>\n",
       "      <td>NaN</td>\n",
       "    </tr>\n",
       "    <tr>\n",
       "      <th>3</th>\n",
       "      <td>500</td>\n",
       "      <td>2008-06-26</td>\n",
       "      <td>Gorgeous 1 BR with Private Balcony</td>\n",
       "      <td>Manhattan</td>\n",
       "      <td>Apartment</td>\n",
       "      <td>NaN</td>\n",
       "      <td>Entire home/apt</td>\n",
       "      <td>10024.0</td>\n",
       "      <td>3.0</td>\n",
       "      <td>1</td>\n",
       "      <td>0</td>\n",
       "      <td>199</td>\n",
       "      <td>NaN</td>\n",
       "    </tr>\n",
       "    <tr>\n",
       "      <th>4</th>\n",
       "      <td>500</td>\n",
       "      <td>2008-06-26</td>\n",
       "      <td>Trendy Times Square Loft</td>\n",
       "      <td>Manhattan</td>\n",
       "      <td>Apartment</td>\n",
       "      <td>95.0</td>\n",
       "      <td>Private room</td>\n",
       "      <td>10036.0</td>\n",
       "      <td>3.0</td>\n",
       "      <td>1</td>\n",
       "      <td>39</td>\n",
       "      <td>549</td>\n",
       "      <td>96.0</td>\n",
       "    </tr>\n",
       "  </tbody>\n",
       "</table>\n",
       "</div>"
      ],
      "text/plain": [
       "    Host Id Host Since                                Name Neighbourhood   \\\n",
       "0   5162530        NaT     1 Bedroom in Prime Williamsburg       Brooklyn   \n",
       "1  33134899        NaT     Sunny, Private room in Bushwick       Brooklyn   \n",
       "2  39608626        NaT                Sunny Room in Harlem      Manhattan   \n",
       "3       500 2008-06-26  Gorgeous 1 BR with Private Balcony      Manhattan   \n",
       "4       500 2008-06-26            Trendy Times Square Loft      Manhattan   \n",
       "\n",
       "  Property Type  Review Scores Rating (bin)        Room Type  Zipcode  Beds  \\\n",
       "0     Apartment                         NaN  Entire home/apt  11249.0   1.0   \n",
       "1     Apartment                         NaN     Private room  11206.0   1.0   \n",
       "2     Apartment                         NaN     Private room  10032.0   1.0   \n",
       "3     Apartment                         NaN  Entire home/apt  10024.0   3.0   \n",
       "4     Apartment                        95.0     Private room  10036.0   3.0   \n",
       "\n",
       "   Number of Records  Number Of Reviews  Price  Review Scores Rating  \n",
       "0                  1                  0    145                   NaN  \n",
       "1                  1                  1     37                   NaN  \n",
       "2                  1                  1     28                   NaN  \n",
       "3                  1                  0    199                   NaN  \n",
       "4                  1                 39    549                  96.0  "
      ]
     },
     "execution_count": 4,
     "metadata": {},
     "output_type": "execute_result"
    }
   ],
   "source": [
    "df.head()"
   ]
  },
  {
   "cell_type": "markdown",
   "id": "119420fb-d3ae-49be-9b07-13c301f248ee",
   "metadata": {},
   "source": [
    "### Understanding the data"
   ]
  },
  {
   "cell_type": "code",
   "execution_count": 5,
   "id": "fa72a115-fb8f-496a-8c7d-bce059e2b04c",
   "metadata": {},
   "outputs": [
    {
     "data": {
      "text/plain": [
       "(30461, 13)"
      ]
     },
     "execution_count": 5,
     "metadata": {},
     "output_type": "execute_result"
    }
   ],
   "source": [
    "df.shape"
   ]
  },
  {
   "cell_type": "code",
   "execution_count": 75,
   "id": "820ef974-88a8-4a46-bac0-51b2cc9d34e1",
   "metadata": {},
   "outputs": [
    {
     "data": {
      "text/plain": [
       "Index(['Host Id', 'Host Since', 'Name', 'Neighbourhood ', 'Property Type',\n",
       "       'Room Type', 'Zipcode', 'Beds', 'Number of Records',\n",
       "       'Number Of Reviews', 'Price', 'Review Scores Rating'],\n",
       "      dtype='object')"
      ]
     },
     "execution_count": 75,
     "metadata": {},
     "output_type": "execute_result"
    }
   ],
   "source": [
    "df.columns"
   ]
  },
  {
   "cell_type": "code",
   "execution_count": 160,
   "id": "f42f545d-3864-48df-9ef2-3e4733fbbb81",
   "metadata": {},
   "outputs": [],
   "source": [
    "df.columns = df.columns.str.strip()"
   ]
  },
  {
   "cell_type": "code",
   "execution_count": 6,
   "id": "56b0e9ed-9e10-4e83-86a4-1e2557ba3916",
   "metadata": {},
   "outputs": [
    {
     "name": "stdout",
     "output_type": "stream",
     "text": [
      "<class 'pandas.core.frame.DataFrame'>\n",
      "RangeIndex: 30461 entries, 0 to 30460\n",
      "Data columns (total 13 columns):\n",
      " #   Column                      Non-Null Count  Dtype         \n",
      "---  ------                      --------------  -----         \n",
      " 0   Host Id                     30461 non-null  int64         \n",
      " 1   Host Since                  30458 non-null  datetime64[ns]\n",
      " 2   Name                        30461 non-null  object        \n",
      " 3   Neighbourhood               30461 non-null  object        \n",
      " 4   Property Type               30458 non-null  object        \n",
      " 5   Review Scores Rating (bin)  22152 non-null  float64       \n",
      " 6   Room Type                   30461 non-null  object        \n",
      " 7   Zipcode                     30327 non-null  float64       \n",
      " 8   Beds                        30376 non-null  float64       \n",
      " 9   Number of Records           30461 non-null  int64         \n",
      " 10  Number Of Reviews           30461 non-null  int64         \n",
      " 11  Price                       30461 non-null  int64         \n",
      " 12  Review Scores Rating        22152 non-null  float64       \n",
      "dtypes: datetime64[ns](1), float64(4), int64(4), object(4)\n",
      "memory usage: 3.0+ MB\n"
     ]
    }
   ],
   "source": [
    "df.info()"
   ]
  },
  {
   "cell_type": "code",
   "execution_count": 11,
   "id": "9fe76a6b-3326-49ac-b82f-3c887dbfcd34",
   "metadata": {},
   "outputs": [
    {
     "data": {
      "text/plain": [
       "Host Id                          0\n",
       "Host Since                       3\n",
       "Name                             0\n",
       "Neighbourhood                    0\n",
       "Property Type                    3\n",
       "Review Scores Rating (bin)    8309\n",
       "Room Type                        0\n",
       "Zipcode                        134\n",
       "Beds                            85\n",
       "Number of Records                0\n",
       "Number Of Reviews                0\n",
       "Price                            0\n",
       "Review Scores Rating          8309\n",
       "dtype: int64"
      ]
     },
     "execution_count": 11,
     "metadata": {},
     "output_type": "execute_result"
    }
   ],
   "source": [
    "df.isnull().sum()"
   ]
  },
  {
   "cell_type": "markdown",
   "id": "fbd110d4-b409-427f-ae9c-3b739f0d7315",
   "metadata": {},
   "source": [
    "### Data Cleaning"
   ]
  },
  {
   "cell_type": "code",
   "execution_count": 13,
   "id": "cc9b1039-b7a8-40c4-818e-cc7a1f699e97",
   "metadata": {},
   "outputs": [],
   "source": [
    "df=df.drop('Review Scores Rating (bin)',axis=1)"
   ]
  },
  {
   "cell_type": "code",
   "execution_count": 15,
   "id": "37c38de1-9919-42b9-8007-91e6b8c76b6b",
   "metadata": {},
   "outputs": [],
   "source": [
    "df=pd.DataFrame(df)"
   ]
  },
  {
   "cell_type": "code",
   "execution_count": 17,
   "id": "4b6e4392-42f6-4dc6-be2d-a26e81a8e617",
   "metadata": {},
   "outputs": [],
   "source": [
    "df=df.dropna(subset=['Host Since','Property Type','Zipcode','Beds'],axis=0)\n"
   ]
  },
  {
   "cell_type": "code",
   "execution_count": 19,
   "id": "ae6571f7-c677-4ced-a268-5f89722c9eeb",
   "metadata": {},
   "outputs": [
    {
     "data": {
      "text/plain": [
       "Host Id                    0\n",
       "Host Since                 0\n",
       "Name                       0\n",
       "Neighbourhood              0\n",
       "Property Type              0\n",
       "Room Type                  0\n",
       "Zipcode                    0\n",
       "Beds                       0\n",
       "Number of Records          0\n",
       "Number Of Reviews          0\n",
       "Price                      0\n",
       "Review Scores Rating    8230\n",
       "dtype: int64"
      ]
     },
     "execution_count": 19,
     "metadata": {},
     "output_type": "execute_result"
    }
   ],
   "source": [
    "df.isnull().sum()"
   ]
  },
  {
   "cell_type": "code",
   "execution_count": 25,
   "id": "ceb1edfa-a21d-45db-af67-77618b048926",
   "metadata": {},
   "outputs": [
    {
     "data": {
      "text/plain": [
       "91.98773117644386"
      ]
     },
     "execution_count": 25,
     "metadata": {},
     "output_type": "execute_result"
    }
   ],
   "source": [
    "mean=df['Review Scores Rating'].mean()\n",
    "mean"
   ]
  },
  {
   "cell_type": "code",
   "execution_count": 23,
   "id": "588f4201-56ea-4a5e-b297-318be5a6b691",
   "metadata": {},
   "outputs": [
    {
     "data": {
      "text/plain": [
       "<Axes: ylabel='Frequency'>"
      ]
     },
     "execution_count": 23,
     "metadata": {},
     "output_type": "execute_result"
    },
    {
     "data": {
      "image/png": "[encoded data removed]",
      "text/plain": [
       "<Figure size 640x480 with 1 Axes>"
      ]
     },
     "metadata": {},
     "output_type": "display_data"
    }
   ],
   "source": [
    "df['Review Scores Rating'].plot(kind='hist')"
   ]
  },
  {
   "cell_type": "code",
   "execution_count": 29,
   "id": "ebb8566a-f6ca-4212-9eb7-d1e06e38d45d",
   "metadata": {},
   "outputs": [],
   "source": [
    "df['Review Scores Rating'].fillna(mean, inplace=True)"
   ]
  },
  {
   "cell_type": "code",
   "execution_count": 31,
   "id": "76a093a8-f698-4d42-89a2-0fdfc3605fbd",
   "metadata": {},
   "outputs": [
    {
     "data": {
      "text/plain": [
       "Host Id                 0\n",
       "Host Since              0\n",
       "Name                    0\n",
       "Neighbourhood           0\n",
       "Property Type           0\n",
       "Room Type               0\n",
       "Zipcode                 0\n",
       "Beds                    0\n",
       "Number of Records       0\n",
       "Number Of Reviews       0\n",
       "Price                   0\n",
       "Review Scores Rating    0\n",
       "dtype: int64"
      ]
     },
     "execution_count": 31,
     "metadata": {},
     "output_type": "execute_result"
    }
   ],
   "source": [
    "df.isnull().sum()"
   ]
  },
  {
   "cell_type": "code",
   "execution_count": 33,
   "id": "a7ded5c0-8370-4da5-bb6f-d6b7e85bad9f",
   "metadata": {},
   "outputs": [
    {
     "data": {
      "text/html": [
       "<div>\n",
       "<style scoped>\n",
       "    .dataframe tbody tr th:only-of-type {\n",
       "        vertical-align: middle;\n",
       "    }\n",
       "\n",
       "    .dataframe tbody tr th {\n",
       "        vertical-align: top;\n",
       "    }\n",
       "\n",
       "    .dataframe thead th {\n",
       "        text-align: right;\n",
       "    }\n",
       "</style>\n",
       "<table border=\"1\" class=\"dataframe\">\n",
       "  <thead>\n",
       "    <tr style=\"text-align: right;\">\n",
       "      <th></th>\n",
       "      <th>Host Id</th>\n",
       "      <th>Host Since</th>\n",
       "      <th>Name</th>\n",
       "      <th>Neighbourhood</th>\n",
       "      <th>Property Type</th>\n",
       "      <th>Room Type</th>\n",
       "      <th>Zipcode</th>\n",
       "      <th>Beds</th>\n",
       "      <th>Number of Records</th>\n",
       "      <th>Number Of Reviews</th>\n",
       "      <th>Price</th>\n",
       "      <th>Review Scores Rating</th>\n",
       "    </tr>\n",
       "  </thead>\n",
       "  <tbody>\n",
       "    <tr>\n",
       "      <th>3</th>\n",
       "      <td>500</td>\n",
       "      <td>2008-06-26</td>\n",
       "      <td>Gorgeous 1 BR with Private Balcony</td>\n",
       "      <td>Manhattan</td>\n",
       "      <td>Apartment</td>\n",
       "      <td>Entire home/apt</td>\n",
       "      <td>10024.0</td>\n",
       "      <td>3.0</td>\n",
       "      <td>1</td>\n",
       "      <td>0</td>\n",
       "      <td>199</td>\n",
       "      <td>91.987731</td>\n",
       "    </tr>\n",
       "    <tr>\n",
       "      <th>4</th>\n",
       "      <td>500</td>\n",
       "      <td>2008-06-26</td>\n",
       "      <td>Trendy Times Square Loft</td>\n",
       "      <td>Manhattan</td>\n",
       "      <td>Apartment</td>\n",
       "      <td>Private room</td>\n",
       "      <td>10036.0</td>\n",
       "      <td>3.0</td>\n",
       "      <td>1</td>\n",
       "      <td>39</td>\n",
       "      <td>549</td>\n",
       "      <td>96.000000</td>\n",
       "    </tr>\n",
       "    <tr>\n",
       "      <th>5</th>\n",
       "      <td>1039</td>\n",
       "      <td>2008-07-25</td>\n",
       "      <td>Big Greenpoint 1BD w/ Skyline View</td>\n",
       "      <td>Brooklyn</td>\n",
       "      <td>Apartment</td>\n",
       "      <td>Entire home/apt</td>\n",
       "      <td>11222.0</td>\n",
       "      <td>1.0</td>\n",
       "      <td>1</td>\n",
       "      <td>4</td>\n",
       "      <td>149</td>\n",
       "      <td>100.000000</td>\n",
       "    </tr>\n",
       "    <tr>\n",
       "      <th>6</th>\n",
       "      <td>1783</td>\n",
       "      <td>2008-08-12</td>\n",
       "      <td>Amazing Also</td>\n",
       "      <td>Manhattan</td>\n",
       "      <td>Apartment</td>\n",
       "      <td>Entire home/apt</td>\n",
       "      <td>10004.0</td>\n",
       "      <td>1.0</td>\n",
       "      <td>1</td>\n",
       "      <td>9</td>\n",
       "      <td>250</td>\n",
       "      <td>100.000000</td>\n",
       "    </tr>\n",
       "    <tr>\n",
       "      <th>7</th>\n",
       "      <td>2078</td>\n",
       "      <td>2008-08-15</td>\n",
       "      <td>Colorful, quiet, &amp; near the subway!</td>\n",
       "      <td>Brooklyn</td>\n",
       "      <td>Apartment</td>\n",
       "      <td>Private room</td>\n",
       "      <td>11201.0</td>\n",
       "      <td>1.0</td>\n",
       "      <td>1</td>\n",
       "      <td>80</td>\n",
       "      <td>90</td>\n",
       "      <td>94.000000</td>\n",
       "    </tr>\n",
       "  </tbody>\n",
       "</table>\n",
       "</div>"
      ],
      "text/plain": [
       "   Host Id Host Since                                 Name Neighbourhood   \\\n",
       "3      500 2008-06-26   Gorgeous 1 BR with Private Balcony      Manhattan   \n",
       "4      500 2008-06-26             Trendy Times Square Loft      Manhattan   \n",
       "5     1039 2008-07-25   Big Greenpoint 1BD w/ Skyline View       Brooklyn   \n",
       "6     1783 2008-08-12                         Amazing Also      Manhattan   \n",
       "7     2078 2008-08-15  Colorful, quiet, & near the subway!       Brooklyn   \n",
       "\n",
       "  Property Type        Room Type  Zipcode  Beds  Number of Records  \\\n",
       "3     Apartment  Entire home/apt  10024.0   3.0                  1   \n",
       "4     Apartment     Private room  10036.0   3.0                  1   \n",
       "5     Apartment  Entire home/apt  11222.0   1.0                  1   \n",
       "6     Apartment  Entire home/apt  10004.0   1.0                  1   \n",
       "7     Apartment     Private room  11201.0   1.0                  1   \n",
       "\n",
       "   Number Of Reviews  Price  Review Scores Rating  \n",
       "3                  0    199             91.987731  \n",
       "4                 39    549             96.000000  \n",
       "5                  4    149            100.000000  \n",
       "6                  9    250            100.000000  \n",
       "7                 80     90             94.000000  "
      ]
     },
     "execution_count": 33,
     "metadata": {},
     "output_type": "execute_result"
    }
   ],
   "source": [
    "df.head()"
   ]
  },
  {
   "cell_type": "code",
   "execution_count": 35,
   "id": "457d3eba-6abe-42eb-ba2a-a553446c9228",
   "metadata": {},
   "outputs": [
    {
     "data": {
      "text/plain": [
       "Host Id                          int64\n",
       "Host Since              datetime64[ns]\n",
       "Name                            object\n",
       "Neighbourhood                   object\n",
       "Property Type                   object\n",
       "Room Type                       object\n",
       "Zipcode                        float64\n",
       "Beds                           float64\n",
       "Number of Records                int64\n",
       "Number Of Reviews                int64\n",
       "Price                            int64\n",
       "Review Scores Rating           float64\n",
       "dtype: object"
      ]
     },
     "execution_count": 35,
     "metadata": {},
     "output_type": "execute_result"
    }
   ],
   "source": [
    "df.dtypes"
   ]
  },
  {
   "cell_type": "code",
   "execution_count": 43,
   "id": "364b641c-08cc-4f6b-8dcd-924927f4d437",
   "metadata": {},
   "outputs": [],
   "source": [
    "df[['Zipcode','Beds']]=df[['Zipcode','Beds']].astype('int')"
   ]
  },
  {
   "cell_type": "code",
   "execution_count": 47,
   "id": "5e6fb6ea-1b04-4510-bdc6-15665f26f012",
   "metadata": {},
   "outputs": [],
   "source": [
    "df[['Price']]=df[['Price']].astype('float')"
   ]
  },
  {
   "cell_type": "code",
   "execution_count": 49,
   "id": "4c4b4243-b2dd-4e77-b659-aefe4bf0c63d",
   "metadata": {},
   "outputs": [
    {
     "data": {
      "text/plain": [
       "Host Id                          int64\n",
       "Host Since              datetime64[ns]\n",
       "Name                            object\n",
       "Neighbourhood                   object\n",
       "Property Type                   object\n",
       "Room Type                       object\n",
       "Zipcode                          int32\n",
       "Beds                             int32\n",
       "Number of Records                int64\n",
       "Number Of Reviews                int64\n",
       "Price                          float64\n",
       "Review Scores Rating           float64\n",
       "dtype: object"
      ]
     },
     "execution_count": 49,
     "metadata": {},
     "output_type": "execute_result"
    }
   ],
   "source": [
    "df.dtypes"
   ]
  },
  {
   "cell_type": "code",
   "execution_count": 51,
   "id": "00aae906-a451-433d-b41e-5ae4ab0651c6",
   "metadata": {},
   "outputs": [
    {
     "data": {
      "text/html": [
       "<div>\n",
       "<style scoped>\n",
       "    .dataframe tbody tr th:only-of-type {\n",
       "        vertical-align: middle;\n",
       "    }\n",
       "\n",
       "    .dataframe tbody tr th {\n",
       "        vertical-align: top;\n",
       "    }\n",
       "\n",
       "    .dataframe thead th {\n",
       "        text-align: right;\n",
       "    }\n",
       "</style>\n",
       "<table border=\"1\" class=\"dataframe\">\n",
       "  <thead>\n",
       "    <tr style=\"text-align: right;\">\n",
       "      <th></th>\n",
       "      <th>Host Id</th>\n",
       "      <th>Host Since</th>\n",
       "      <th>Name</th>\n",
       "      <th>Neighbourhood</th>\n",
       "      <th>Property Type</th>\n",
       "      <th>Room Type</th>\n",
       "      <th>Zipcode</th>\n",
       "      <th>Beds</th>\n",
       "      <th>Number of Records</th>\n",
       "      <th>Number Of Reviews</th>\n",
       "      <th>Price</th>\n",
       "      <th>Review Scores Rating</th>\n",
       "    </tr>\n",
       "  </thead>\n",
       "  <tbody>\n",
       "    <tr>\n",
       "      <th>3</th>\n",
       "      <td>500</td>\n",
       "      <td>2008-06-26</td>\n",
       "      <td>Gorgeous 1 BR with Private Balcony</td>\n",
       "      <td>Manhattan</td>\n",
       "      <td>Apartment</td>\n",
       "      <td>Entire home/apt</td>\n",
       "      <td>10024</td>\n",
       "      <td>3</td>\n",
       "      <td>1</td>\n",
       "      <td>0</td>\n",
       "      <td>199.0</td>\n",
       "      <td>91.987731</td>\n",
       "    </tr>\n",
       "    <tr>\n",
       "      <th>4</th>\n",
       "      <td>500</td>\n",
       "      <td>2008-06-26</td>\n",
       "      <td>Trendy Times Square Loft</td>\n",
       "      <td>Manhattan</td>\n",
       "      <td>Apartment</td>\n",
       "      <td>Private room</td>\n",
       "      <td>10036</td>\n",
       "      <td>3</td>\n",
       "      <td>1</td>\n",
       "      <td>39</td>\n",
       "      <td>549.0</td>\n",
       "      <td>96.000000</td>\n",
       "    </tr>\n",
       "    <tr>\n",
       "      <th>5</th>\n",
       "      <td>1039</td>\n",
       "      <td>2008-07-25</td>\n",
       "      <td>Big Greenpoint 1BD w/ Skyline View</td>\n",
       "      <td>Brooklyn</td>\n",
       "      <td>Apartment</td>\n",
       "      <td>Entire home/apt</td>\n",
       "      <td>11222</td>\n",
       "      <td>1</td>\n",
       "      <td>1</td>\n",
       "      <td>4</td>\n",
       "      <td>149.0</td>\n",
       "      <td>100.000000</td>\n",
       "    </tr>\n",
       "    <tr>\n",
       "      <th>6</th>\n",
       "      <td>1783</td>\n",
       "      <td>2008-08-12</td>\n",
       "      <td>Amazing Also</td>\n",
       "      <td>Manhattan</td>\n",
       "      <td>Apartment</td>\n",
       "      <td>Entire home/apt</td>\n",
       "      <td>10004</td>\n",
       "      <td>1</td>\n",
       "      <td>1</td>\n",
       "      <td>9</td>\n",
       "      <td>250.0</td>\n",
       "      <td>100.000000</td>\n",
       "    </tr>\n",
       "    <tr>\n",
       "      <th>7</th>\n",
       "      <td>2078</td>\n",
       "      <td>2008-08-15</td>\n",
       "      <td>Colorful, quiet, &amp; near the subway!</td>\n",
       "      <td>Brooklyn</td>\n",
       "      <td>Apartment</td>\n",
       "      <td>Private room</td>\n",
       "      <td>11201</td>\n",
       "      <td>1</td>\n",
       "      <td>1</td>\n",
       "      <td>80</td>\n",
       "      <td>90.0</td>\n",
       "      <td>94.000000</td>\n",
       "    </tr>\n",
       "  </tbody>\n",
       "</table>\n",
       "</div>"
      ],
      "text/plain": [
       "   Host Id Host Since                                 Name Neighbourhood   \\\n",
       "3      500 2008-06-26   Gorgeous 1 BR with Private Balcony      Manhattan   \n",
       "4      500 2008-06-26             Trendy Times Square Loft      Manhattan   \n",
       "5     1039 2008-07-25   Big Greenpoint 1BD w/ Skyline View       Brooklyn   \n",
       "6     1783 2008-08-12                         Amazing Also      Manhattan   \n",
       "7     2078 2008-08-15  Colorful, quiet, & near the subway!       Brooklyn   \n",
       "\n",
       "  Property Type        Room Type  Zipcode  Beds  Number of Records  \\\n",
       "3     Apartment  Entire home/apt    10024     3                  1   \n",
       "4     Apartment     Private room    10036     3                  1   \n",
       "5     Apartment  Entire home/apt    11222     1                  1   \n",
       "6     Apartment  Entire home/apt    10004     1                  1   \n",
       "7     Apartment     Private room    11201     1                  1   \n",
       "\n",
       "   Number Of Reviews  Price  Review Scores Rating  \n",
       "3                  0  199.0             91.987731  \n",
       "4                 39  549.0             96.000000  \n",
       "5                  4  149.0            100.000000  \n",
       "6                  9  250.0            100.000000  \n",
       "7                 80   90.0             94.000000  "
      ]
     },
     "execution_count": 51,
     "metadata": {},
     "output_type": "execute_result"
    }
   ],
   "source": [
    "df.head()"
   ]
  },
  {
   "cell_type": "markdown",
   "id": "b83228ce-5ef8-4d10-ba38-71882d09692e",
   "metadata": {},
   "source": [
    "### Basic Exploratory Data Analysis"
   ]
  },
  {
   "cell_type": "code",
   "execution_count": 57,
   "id": "9a3148a9-3947-433b-91dc-7fb609a3513e",
   "metadata": {},
   "outputs": [
    {
     "data": {
      "text/plain": [
       "Beds                      1.529351\n",
       "Number of Records         1.000000\n",
       "Price                   163.560505\n",
       "Review Scores Rating     91.987731\n",
       "dtype: float64"
      ]
     },
     "execution_count": 57,
     "metadata": {},
     "output_type": "execute_result"
    }
   ],
   "source": [
    "df[['Beds','Number of Records','Price','Review Scores Rating']].mean()"
   ]
  },
  {
   "cell_type": "code",
   "execution_count": 61,
   "id": "679b4a43-5054-4634-9cb7-b0a4433c5bcb",
   "metadata": {},
   "outputs": [
    {
     "data": {
      "text/plain": [
       "Beds                      1.000000\n",
       "Number of Records         1.000000\n",
       "Price                   125.000000\n",
       "Review Scores Rating     91.987731\n",
       "dtype: float64"
      ]
     },
     "execution_count": 61,
     "metadata": {},
     "output_type": "execute_result"
    }
   ],
   "source": [
    "df[['Beds','Number of Records','Price','Review Scores Rating']].median()"
   ]
  },
  {
   "cell_type": "code",
   "execution_count": 93,
   "id": "e1fabbe9-6ea1-41d1-9f61-83f478b18033",
   "metadata": {},
   "outputs": [
    {
     "data": {
      "text/plain": [
       "Neighbourhood\n",
       "Manhattan        198.182572\n",
       "Staten Island    164.689655\n",
       "Brooklyn         129.606615\n",
       "Queens           103.348330\n",
       "Bronx             95.044118\n",
       "Name: Price, dtype: float64"
      ]
     },
     "execution_count": 93,
     "metadata": {},
     "output_type": "execute_result"
    }
   ],
   "source": [
    "df1=df.groupby('Neighbourhood')['Price'].mean()\n",
    "df1.sort_values(ascending=False)"
   ]
  },
  {
   "cell_type": "code",
   "execution_count": 95,
   "id": "ff6a26e5-3f3f-47a0-886d-6116c2960c76",
   "metadata": {},
   "outputs": [
    {
     "data": {
      "text/plain": [
       "Property Type\n",
       "Other              394.659574\n",
       "Villa              328.000000\n",
       "Condominium        256.585106\n",
       "Loft               222.107713\n",
       "Townhouse          203.933824\n",
       "Cabin              165.000000\n",
       "Apartment          161.959796\n",
       "House              157.034316\n",
       "Boat               153.625000\n",
       "Bungalow           150.750000\n",
       "Castle             150.000000\n",
       "Treehouse          149.500000\n",
       "Tent               126.250000\n",
       "Bed & Breakfast    106.776536\n",
       "Camper/RV          103.571429\n",
       "Chalet              99.000000\n",
       "Dorm                76.900000\n",
       "Hut                 75.000000\n",
       "Lighthouse          39.000000\n",
       "Name: Price, dtype: float64"
      ]
     },
     "execution_count": 95,
     "metadata": {},
     "output_type": "execute_result"
    }
   ],
   "source": [
    "df1=df.groupby('Property Type')['Price'].mean()\n",
    "df1.sort_values(ascending=False)"
   ]
  },
  {
   "cell_type": "code",
   "execution_count": 97,
   "id": "02479c20-571f-4166-9b1f-8522b18575aa",
   "metadata": {},
   "outputs": [
    {
     "data": {
      "text/plain": [
       "Room Type\n",
       "Entire home/apt    220.880291\n",
       "Private room        91.462838\n",
       "Shared room         80.434731\n",
       "Name: Price, dtype: float64"
      ]
     },
     "execution_count": 97,
     "metadata": {},
     "output_type": "execute_result"
    }
   ],
   "source": [
    "df1=df.groupby('Room Type')['Price'].mean()\n",
    "df1.sort_values(ascending=False)"
   ]
  },
  {
   "cell_type": "code",
   "execution_count": 99,
   "id": "6e0ddfeb-6d13-4173-8b30-228a618d1700",
   "metadata": {},
   "outputs": [
    {
     "data": {
      "text/plain": [
       "Beds\n",
       "12    1418.750000\n",
       "16     736.000000\n",
       "9      618.000000\n",
       "8      589.041667\n",
       "11     535.800000\n",
       "10     480.187500\n",
       "5      410.946237\n",
       "6      401.768362\n",
       "7      341.377778\n",
       "4      317.036129\n",
       "3      268.711295\n",
       "2      199.226644\n",
       "1      127.740627\n",
       "0       92.000000\n",
       "Name: Price, dtype: float64"
      ]
     },
     "execution_count": 99,
     "metadata": {},
     "output_type": "execute_result"
    }
   ],
   "source": [
    "df1=df.groupby('Beds')['Price'].mean()\n",
    "df1.sort_values(ascending=False)"
   ]
  },
  {
   "cell_type": "code",
   "execution_count": 117,
   "id": "b8823349-8da1-47ac-a979-03d4b41ee09a",
   "metadata": {},
   "outputs": [
    {
     "data": {
      "text/html": [
       "<div>\n",
       "<style scoped>\n",
       "    .dataframe tbody tr th:only-of-type {\n",
       "        vertical-align: middle;\n",
       "    }\n",
       "\n",
       "    .dataframe tbody tr th {\n",
       "        vertical-align: top;\n",
       "    }\n",
       "\n",
       "    .dataframe thead th {\n",
       "        text-align: right;\n",
       "    }\n",
       "</style>\n",
       "<table border=\"1\" class=\"dataframe\">\n",
       "  <thead>\n",
       "    <tr style=\"text-align: right;\">\n",
       "      <th></th>\n",
       "      <th>Review Scores Rating</th>\n",
       "      <th>Price</th>\n",
       "    </tr>\n",
       "  </thead>\n",
       "  <tbody>\n",
       "    <tr>\n",
       "      <th>Review Scores Rating</th>\n",
       "      <td>1.000000</td>\n",
       "      <td>0.038929</td>\n",
       "    </tr>\n",
       "    <tr>\n",
       "      <th>Price</th>\n",
       "      <td>0.038929</td>\n",
       "      <td>1.000000</td>\n",
       "    </tr>\n",
       "  </tbody>\n",
       "</table>\n",
       "</div>"
      ],
      "text/plain": [
       "                      Review Scores Rating     Price\n",
       "Review Scores Rating              1.000000  0.038929\n",
       "Price                             0.038929  1.000000"
      ]
     },
     "execution_count": 117,
     "metadata": {},
     "output_type": "execute_result"
    }
   ],
   "source": [
    "df[['Review Scores Rating','Price']].corr()"
   ]
  },
  {
   "cell_type": "code",
   "execution_count": 119,
   "id": "8dc553ba-22ce-4152-8b76-9e698ff74f2f",
   "metadata": {},
   "outputs": [
    {
     "data": {
      "text/html": [
       "<div>\n",
       "<style scoped>\n",
       "    .dataframe tbody tr th:only-of-type {\n",
       "        vertical-align: middle;\n",
       "    }\n",
       "\n",
       "    .dataframe tbody tr th {\n",
       "        vertical-align: top;\n",
       "    }\n",
       "\n",
       "    .dataframe thead th {\n",
       "        text-align: right;\n",
       "    }\n",
       "</style>\n",
       "<table border=\"1\" class=\"dataframe\">\n",
       "  <thead>\n",
       "    <tr style=\"text-align: right;\">\n",
       "      <th></th>\n",
       "      <th>Beds</th>\n",
       "      <th>Price</th>\n",
       "    </tr>\n",
       "  </thead>\n",
       "  <tbody>\n",
       "    <tr>\n",
       "      <th>Beds</th>\n",
       "      <td>1.000000</td>\n",
       "      <td>0.316217</td>\n",
       "    </tr>\n",
       "    <tr>\n",
       "      <th>Price</th>\n",
       "      <td>0.316217</td>\n",
       "      <td>1.000000</td>\n",
       "    </tr>\n",
       "  </tbody>\n",
       "</table>\n",
       "</div>"
      ],
      "text/plain": [
       "           Beds     Price\n",
       "Beds   1.000000  0.316217\n",
       "Price  0.316217  1.000000"
      ]
     },
     "execution_count": 119,
     "metadata": {},
     "output_type": "execute_result"
    }
   ],
   "source": [
    "df[['Beds','Price']].corr()"
   ]
  },
  {
   "cell_type": "code",
   "execution_count": 123,
   "id": "fed2c4b1-a616-41c1-8ebe-a7bd4c718b60",
   "metadata": {},
   "outputs": [
    {
     "data": {
      "text/plain": [
       "<matplotlib.collections.PathCollection at 0x16d27761ee0>"
      ]
     },
     "execution_count": 123,
     "metadata": {},
     "output_type": "execute_result"
    },
    {
     "data": {
      "image/png": "[encoded data removed]",
      "text/plain": [
       "<Figure size 640x480 with 1 Axes>"
      ]
     },
     "metadata": {},
     "output_type": "display_data"
    }
   ],
   "source": [
    "plt.scatter(df['Review Scores Rating'],df['Price'])"
   ]
  },
  {
   "cell_type": "code",
   "execution_count": 127,
   "id": "31eea927-41d8-40de-b5ff-acc63c06175b",
   "metadata": {},
   "outputs": [
    {
     "data": {
      "text/plain": [
       "<Axes: ylabel='Frequency'>"
      ]
     },
     "execution_count": 127,
     "metadata": {},
     "output_type": "execute_result"
    },
    {
     "data": {
      "image/png": "[encoded data removed]",
      "text/plain": [
       "<Figure size 640x480 with 1 Axes>"
      ]
     },
     "metadata": {},
     "output_type": "display_data"
    }
   ],
   "source": [
    "df['Beds'].plot(kind='hist')"
   ]
  },
  {
   "cell_type": "code",
   "execution_count": 133,
   "id": "bde428f8-7326-4072-995f-7c1934892302",
   "metadata": {},
   "outputs": [
    {
     "data": {
      "text/plain": [
       "<Axes: ylabel='Frequency'>"
      ]
     },
     "execution_count": 133,
     "metadata": {},
     "output_type": "execute_result"
    },
    {
     "data": {
      "image/png": "[encoded data removed]",
      "text/plain": [
       "<Figure size 1000x1000 with 1 Axes>"
      ]
     },
     "metadata": {},
     "output_type": "display_data"
    }
   ],
   "source": [
    "df['Price'].plot(kind='hist',figsize=(10,10))"
   ]
  },
  {
   "cell_type": "code",
   "execution_count": 135,
   "id": "dd7997d9-e632-4647-95d6-756ee9a273f9",
   "metadata": {},
   "outputs": [
    {
     "data": {
      "text/plain": [
       "<Axes: ylabel='Frequency'>"
      ]
     },
     "execution_count": 135,
     "metadata": {},
     "output_type": "execute_result"
    },
    {
     "data": {
      "image/png": "[encoded data removed]",
      "text/plain": [
       "<Figure size 640x480 with 1 Axes>"
      ]
     },
     "metadata": {},
     "output_type": "display_data"
    }
   ],
   "source": [
    "df['Review Scores Rating'].plot(kind='hist')"
   ]
  },
  {
   "cell_type": "code",
   "execution_count": 137,
   "id": "f709272b-291b-4a33-8b32-e3d00f6f1734",
   "metadata": {},
   "outputs": [
    {
     "data": {
      "text/plain": [
       "<Axes: ylabel='Frequency'>"
      ]
     },
     "execution_count": 137,
     "metadata": {},
     "output_type": "execute_result"
    },
    {
     "data": {
      "image/png": "[encoded data removed]",
      "text/plain": [
       "<Figure size 640x480 with 1 Axes>"
      ]
     },
     "metadata": {},
     "output_type": "display_data"
    }
   ],
   "source": [
    "df['Number Of Reviews'].plot(kind='hist')"
   ]
  },
  {
   "cell_type": "code",
   "execution_count": 139,
   "id": "12e388cc-0937-4da0-a01c-9e954903f80d",
   "metadata": {},
   "outputs": [
    {
     "data": {
      "text/plain": [
       "<Axes: xlabel='Neighbourhood', ylabel='count'>"
      ]
     },
     "execution_count": 139,
     "metadata": {},
     "output_type": "execute_result"
    },
    {
     "data": {
      "image/png": "[encoded data removed]",
      "text/plain": [
       "<Figure size 640x480 with 1 Axes>"
      ]
     },
     "metadata": {},
     "output_type": "display_data"
    }
   ],
   "source": [
    "sns.countplot(x='Neighbourhood', data=df)"
   ]
  },
  {
   "cell_type": "code",
   "execution_count": 147,
   "id": "1718042c-3ab0-4ba9-8593-66431af0d1b9",
   "metadata": {},
   "outputs": [
    {
     "data": {
      "text/plain": [
       "([0, 1, 2, 3, 4, 5, 6, 7, 8, 9, 10, 11, 12, 13, 14, 15, 16, 17, 18],\n",
       " [Text(0, 0, 'Apartment'),\n",
       "  Text(1, 0, 'House'),\n",
       "  Text(2, 0, 'Other'),\n",
       "  Text(3, 0, 'Bed & Breakfast'),\n",
       "  Text(4, 0, 'Loft'),\n",
       "  Text(5, 0, 'Condominium'),\n",
       "  Text(6, 0, 'Townhouse'),\n",
       "  Text(7, 0, 'Dorm'),\n",
       "  Text(8, 0, 'Boat'),\n",
       "  Text(9, 0, 'Cabin'),\n",
       "  Text(10, 0, 'Villa'),\n",
       "  Text(11, 0, 'Bungalow'),\n",
       "  Text(12, 0, 'Camper/RV'),\n",
       "  Text(13, 0, 'Treehouse'),\n",
       "  Text(14, 0, 'Tent'),\n",
       "  Text(15, 0, 'Hut'),\n",
       "  Text(16, 0, 'Lighthouse'),\n",
       "  Text(17, 0, 'Chalet'),\n",
       "  Text(18, 0, 'Castle')])"
      ]
     },
     "execution_count": 147,
     "metadata": {},
     "output_type": "execute_result"
    },
    {
     "data": {
      "image/png": "[encoded data removed]",
      "text/plain": [
       "<Figure size 640x480 with 1 Axes>"
      ]
     },
     "metadata": {},
     "output_type": "display_data"
    }
   ],
   "source": [
    "sns.countplot(x='Property Type', data=df)\n",
    "plt.xticks(rotation=90)"
   ]
  },
  {
   "cell_type": "code",
   "execution_count": 149,
   "id": "013f9750-f3dd-4715-b4a6-0ff177671ec5",
   "metadata": {},
   "outputs": [
    {
     "data": {
      "text/plain": [
       "<Axes: xlabel='Room Type', ylabel='count'>"
      ]
     },
     "execution_count": 149,
     "metadata": {},
     "output_type": "execute_result"
    },
    {
     "data": {
      "image/png": "[encoded data removed]",
      "text/plain": [
       "<Figure size 640x480 with 1 Axes>"
      ]
     },
     "metadata": {},
     "output_type": "display_data"
    }
   ],
   "source": [
    "sns.countplot(x='Room Type', data=df)"
   ]
  },
  {
   "cell_type": "markdown",
   "id": "5e61da31-5518-4f70-b4dc-50e456ca0b37",
   "metadata": {},
   "source": [
    "### Exporting final data to Excel"
   ]
  },
  {
   "cell_type": "code",
   "execution_count": 153,
   "id": "8c630786-3b14-4b93-a788-de716fdf6e06",
   "metadata": {},
   "outputs": [],
   "source": [
    "df.to_excel(r'C:\\Users\\RBANDCO\\Downloads\\cleaned data.xlsx',index=False)"
   ]
  }
 ],
 "metadata": {
  "kernelspec": {
   "display_name": "Python 3 (ipykernel)",
   "language": "python",
   "name": "python3"
  },
  "language_info": {
   "codemirror_mode": {
    "name": "ipython",
    "version": 3
   },
   "file_extension": ".py",
   "mimetype": "text/x-python",
   "name": "python",
   "nbconvert_exporter": "python",
   "pygments_lexer": "ipython3",
   "version": "3.12.4"
  }
 },
 "nbformat": 4,
 "nbformat_minor": 5
}
